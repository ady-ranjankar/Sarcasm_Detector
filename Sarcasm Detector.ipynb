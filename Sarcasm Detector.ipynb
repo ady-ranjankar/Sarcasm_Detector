{
 "cells": [
  {
   "cell_type": "code",
   "execution_count": 1,
   "metadata": {},
   "outputs": [],
   "source": [
    "import pandas as pd\n",
    "import numpy as np\n",
    "from tqdm import tqdm\n",
    "tqdm.pandas(desc=\"progress-bar\")\n",
    "from gensim.models import Doc2Vec\n",
    "from sklearn import utils\n",
    "from sklearn.model_selection import train_test_split\n",
    "import gensim\n",
    "from sklearn.linear_model import LogisticRegression\n",
    "from gensim.models.doc2vec import TaggedDocument\n",
    "import re\n",
    "import seaborn as sns\n",
    "import matplotlib.pyplot as plt"
   ]
  },
  {
   "cell_type": "code",
   "execution_count": 12,
   "metadata": {},
   "outputs": [],
   "source": [
    "df = pd.read_csv('Tweets_cleaned.csv')\n",
    "df = df[['body_text_clean','label']]\n",
    "\n",
    "df = df[pd.notnull(df['body_text_clean'])]\n",
    "df.rename(columns = {'body_text_clean':'narrative'}, inplace = True)\n",
    "\n",
    "df.rename(columns = {'label':'Product'}, inplace = True)"
   ]
  },
  {
   "cell_type": "code",
   "execution_count": 13,
   "metadata": {},
   "outputs": [
    {
     "data": {
      "text/html": [
       "<div>\n",
       "<style scoped>\n",
       "    .dataframe tbody tr th:only-of-type {\n",
       "        vertical-align: middle;\n",
       "    }\n",
       "\n",
       "    .dataframe tbody tr th {\n",
       "        vertical-align: top;\n",
       "    }\n",
       "\n",
       "    .dataframe thead th {\n",
       "        text-align: right;\n",
       "    }\n",
       "</style>\n",
       "<table border=\"1\" class=\"dataframe\">\n",
       "  <thead>\n",
       "    <tr style=\"text-align: right;\">\n",
       "      <th></th>\n",
       "      <th>narrative</th>\n",
       "      <th>Product</th>\n",
       "    </tr>\n",
       "  </thead>\n",
       "  <tbody>\n",
       "    <tr>\n",
       "      <th>0</th>\n",
       "      <td>this totally topped off my week</td>\n",
       "      <td>NOT_SARCASM</td>\n",
       "    </tr>\n",
       "    <tr>\n",
       "      <th>1</th>\n",
       "      <td>wow how freaking awesome was that</td>\n",
       "      <td>NOT_SARCASM</td>\n",
       "    </tr>\n",
       "    <tr>\n",
       "      <th>2</th>\n",
       "      <td>summers over and it was shit only sunny day wa...</td>\n",
       "      <td>NOT_SARCASM</td>\n",
       "    </tr>\n",
       "    <tr>\n",
       "      <th>3</th>\n",
       "      <td>did you know that one of bolshoi ballet member...</td>\n",
       "      <td>NOT_SARCASM</td>\n",
       "    </tr>\n",
       "    <tr>\n",
       "      <th>4</th>\n",
       "      <td>i just love missing the bus</td>\n",
       "      <td>SARCASM</td>\n",
       "    </tr>\n",
       "  </tbody>\n",
       "</table>\n",
       "</div>"
      ],
      "text/plain": [
       "                                           narrative      Product\n",
       "0                    this totally topped off my week  NOT_SARCASM\n",
       "1                  wow how freaking awesome was that  NOT_SARCASM\n",
       "2  summers over and it was shit only sunny day wa...  NOT_SARCASM\n",
       "3  did you know that one of bolshoi ballet member...  NOT_SARCASM\n",
       "4                        i just love missing the bus      SARCASM"
      ]
     },
     "execution_count": 13,
     "metadata": {},
     "output_type": "execute_result"
    }
   ],
   "source": [
    "df.head()"
   ]
  },
  {
   "cell_type": "code",
   "execution_count": 14,
   "metadata": {},
   "outputs": [
    {
     "data": {
      "text/plain": [
       "(566, 2)"
      ]
     },
     "execution_count": 14,
     "metadata": {},
     "output_type": "execute_result"
    }
   ],
   "source": [
    "df.shape\n"
   ]
  },
  {
   "cell_type": "code",
   "execution_count": 15,
   "metadata": {},
   "outputs": [],
   "source": [
    "df.index = range(566)"
   ]
  },
  {
   "cell_type": "code",
   "execution_count": 16,
   "metadata": {},
   "outputs": [
    {
     "data": {
      "text/plain": [
       "6506"
      ]
     },
     "execution_count": 16,
     "metadata": {},
     "output_type": "execute_result"
    }
   ],
   "source": [
    "df['narrative'].apply(lambda x: len(x.split(' '))).sum()"
   ]
  },
  {
   "cell_type": "code",
   "execution_count": 17,
   "metadata": {},
   "outputs": [
    {
     "data": {
      "image/png": "[encoded data removed]",
      "text/plain": [
       "<matplotlib.figure.Figure at 0x210a7713358>"
      ]
     },
     "metadata": {
      "needs_background": "light"
     },
     "output_type": "display_data"
    }
   ],
   "source": [
    "cnt_pro = df['Product'].value_counts()\n",
    "\n",
    "plt.figure(figsize=(12,4))\n",
    "sns.barplot(cnt_pro.index, cnt_pro.values, alpha=0.8)\n",
    "plt.ylabel('Number of Occurrences', fontsize=12)\n",
    "plt.xlabel('Product', fontsize=12)\n",
    "plt.xticks(rotation=90)\n",
    "plt.show();"
   ]
  },
  {
   "cell_type": "code",
   "execution_count": 18,
   "metadata": {},
   "outputs": [],
   "source": [
    "\n",
    "def print_complaint(index):\n",
    "    example = df[df.index == index][['narrative', 'Product']].values[0]\n",
    "    if len(example) > 0:\n",
    "        print(example[0])\n",
    "        print('Product:', example[1])"
   ]
  },
  {
   "cell_type": "code",
   "execution_count": 19,
   "metadata": {},
   "outputs": [
    {
     "name": "stdout",
     "output_type": "stream",
     "text": [
      "lilylovehermore i knew id heard that name somewhere\n",
      "Product: NOT_SARCASM\n"
     ]
    }
   ],
   "source": [
    "\n",
    "print_complaint(12)"
   ]
  },
  {
   "cell_type": "code",
   "execution_count": 20,
   "metadata": {},
   "outputs": [],
   "source": [
    "from bs4 import BeautifulSoup\n",
    "def cleanText(text):\n",
    "    text = BeautifulSoup(text, \"lxml\").text\n",
    "    text = re.sub(r'\\|\\|\\|', r' ', text) \n",
    "    text = re.sub(r'http\\S+', r'<URL>', text)\n",
    "    text = text.lower()\n",
    "    text = text.replace('x', '')\n",
    "    return text\n",
    "df['narrative'] = df['narrative'].apply(cleanText)"
   ]
  },
  {
   "cell_type": "code",
   "execution_count": 21,
   "metadata": {},
   "outputs": [
    {
     "data": {
      "text/plain": [
       "'tyga feat kirko bangz out this bitch'"
      ]
     },
     "execution_count": 21,
     "metadata": {},
     "output_type": "execute_result"
    }
   ],
   "source": [
    "df['narrative'][20]"
   ]
  },
  {
   "cell_type": "code",
   "execution_count": 22,
   "metadata": {},
   "outputs": [],
   "source": [
    "\n",
    "train, test = train_test_split(df, test_size=0.3, random_state=42)"
   ]
  },
  {
   "cell_type": "code",
   "execution_count": 23,
   "metadata": {},
   "outputs": [],
   "source": [
    "import nltk\n",
    "from nltk.corpus import stopwords\n",
    "def tokenize_text(text):\n",
    "    tokens = []\n",
    "    for sent in nltk.sent_tokenize(text):\n",
    "        for word in nltk.word_tokenize(sent):\n",
    "            if len(word) < 2:\n",
    "                continue\n",
    "            tokens.append(word.lower())\n",
    "    return tokens"
   ]
  },
  {
   "cell_type": "code",
   "execution_count": 24,
   "metadata": {},
   "outputs": [],
   "source": [
    "train_tagged = train.apply(\n",
    "    lambda r: TaggedDocument(words=tokenize_text(r['narrative']), tags=[r.Product]), axis=1)\n",
    "test_tagged = test.apply(\n",
    "    lambda r: TaggedDocument(words=tokenize_text(r['narrative']), tags=[r.Product]), axis=1)"
   ]
  },
  {
   "cell_type": "code",
   "execution_count": 39,
   "metadata": {},
   "outputs": [
    {
     "data": {
      "text/plain": [
       "TaggedDocument(words=['the', 'only', 'way', 'that', 'this', 'will', 'work', 'is', 'if', 'you', 'love', 'me', 'when', 'it', 'hurts'], tags=['NOT_SARCASM'])"
      ]
     },
     "execution_count": 39,
     "metadata": {},
     "output_type": "execute_result"
    }
   ],
   "source": [
    "train_tagged.values[30]"
   ]
  },
  {
   "cell_type": "code",
   "execution_count": 26,
   "metadata": {},
   "outputs": [],
   "source": [
    "import multiprocessing\n",
    "\n",
    "cores = multiprocessing.cpu_count()"
   ]
  },
  {
   "cell_type": "code",
   "execution_count": 27,
   "metadata": {},
   "outputs": [
    {
     "name": "stderr",
     "output_type": "stream",
     "text": [
      "100%|████████████████████████████████████████████████████████████████████████████| 396/396 [00:00<00:00, 396880.38it/s]\n"
     ]
    }
   ],
   "source": [
    "model_dbow = Doc2Vec(dm=0, vector_size=300, negative=5, hs=0, min_count=2, sample = 0, workers=cores)\n",
    "model_dbow.build_vocab([x for x in tqdm(train_tagged.values)])"
   ]
  },
  {
   "cell_type": "code",
   "execution_count": 28,
   "metadata": {},
   "outputs": [
    {
     "name": "stderr",
     "output_type": "stream",
     "text": [
      "100%|████████████████████████████████████████████████████████████████████████████| 396/396 [00:00<00:00, 396690.80it/s]\n",
      "100%|████████████████████████████████████████████████████████████████████████████| 396/396 [00:00<00:00, 396880.38it/s]\n",
      "100%|████████████████████████████████████████████████████████████████████████████| 396/396 [00:00<00:00, 397545.33it/s]\n",
      "100%|████████████████████████████████████████████████████████████████████████████████████████| 396/396 [00:00<?, ?it/s]\n",
      "100%|████████████████████████████████████████████████████████████████████████████| 396/396 [00:00<00:00, 396501.40it/s]\n",
      "100%|████████████████████████████████████████████████████████████████████████████████████████| 396/396 [00:00<?, ?it/s]\n",
      "100%|████████████████████████████████████████████████████████████████████████████| 396/396 [00:00<00:00, 396596.08it/s]\n",
      "100%|████████████████████████████████████████████████████████████████████████████| 396/396 [00:00<00:00, 396028.70it/s]\n",
      "100%|████████████████████████████████████████████████████████████████████████████| 396/396 [00:00<00:00, 396406.77it/s]\n",
      "100%|████████████████████████████████████████████████████████████████████████████████████████| 396/396 [00:00<?, ?it/s]\n",
      "100%|████████████████████████████████████████████████████████████████████████████████████████| 396/396 [00:00<?, ?it/s]\n",
      "100%|████████████████████████████████████████████████████████████████████████████████████████| 396/396 [00:00<?, ?it/s]\n",
      "100%|████████████████████████████████████████████████████████████████████████████| 396/396 [00:00<00:00, 396690.80it/s]\n",
      "100%|████████████████████████████████████████████████████████████████████████████| 396/396 [00:00<00:00, 396312.19it/s]\n",
      "100%|████████████████████████████████████████████████████████████████████████████| 396/396 [00:00<00:00, 396028.70it/s]\n",
      "100%|████████████████████████████████████████████████████████████████████████████| 396/396 [00:00<00:00, 397070.14it/s]\n",
      "100%|████████████████████████████████████████████████████████████████████████████| 396/396 [00:00<00:00, 132177.65it/s]\n",
      "100%|████████████████████████████████████████████████████████████████████████████████████████| 396/396 [00:00<?, ?it/s]\n",
      "100%|████████████████████████████████████████████████████████████████████████████████████████| 396/396 [00:00<?, ?it/s]\n",
      "100%|████████████████████████████████████████████████████████████████████████████| 396/396 [00:00<00:00, 396690.80it/s]\n",
      "100%|████████████████████████████████████████████████████████████████████████████| 396/396 [00:00<00:00, 395368.81it/s]\n",
      "100%|████████████████████████████████████████████████████████████████████████████| 396/396 [00:00<00:00, 198535.07it/s]\n",
      "100%|████████████████████████████████████████████████████████████████████████████████████████| 396/396 [00:00<?, ?it/s]\n",
      "100%|████████████████████████████████████████████████████████████████████████████████████████| 396/396 [00:00<?, ?it/s]\n",
      "100%|████████████████████████████████████████████████████████████████████████████| 396/396 [00:00<00:00, 396217.65it/s]\n",
      "100%|████████████████████████████████████████████████████████████████████████████| 396/396 [00:00<00:00, 397735.72it/s]\n",
      "100%|████████████████████████████████████████████████████████████████████████████| 396/396 [00:00<00:00, 396975.24it/s]\n",
      "100%|████████████████████████████████████████████████████████████████████████████| 396/396 [00:00<00:00, 396312.19it/s]\n",
      "100%|████████████████████████████████████████████████████████████████████████████| 396/396 [00:00<00:00, 395557.13it/s]\n",
      "100%|████████████████████████████████████████████████████████████████████████████████████████| 396/396 [00:00<?, ?it/s]\n"
     ]
    },
    {
     "name": "stdout",
     "output_type": "stream",
     "text": [
      "Wall time: 733 ms\n"
     ]
    }
   ],
   "source": [
    "%%time\n",
    "for epoch in range(30):\n",
    "    model_dbow.train(utils.shuffle([x for x in tqdm(train_tagged.values)]), total_examples=len(train_tagged.values), epochs=1)\n",
    "    model_dbow.alpha -= 0.002\n",
    "    model_dbow.min_alpha = model_dbow.alpha"
   ]
  },
  {
   "cell_type": "code",
   "execution_count": 29,
   "metadata": {},
   "outputs": [],
   "source": [
    "def vec_for_learning(model, tagged_docs):\n",
    "    sents = tagged_docs.values\n",
    "    targets, regressors = zip(*[(doc.tags[0], model.infer_vector(doc.words, steps=20)) for doc in sents])\n",
    "    return targets, regressors"
   ]
  },
  {
   "cell_type": "code",
   "execution_count": 30,
   "metadata": {},
   "outputs": [],
   "source": [
    "y_train, X_train = vec_for_learning(model_dbow, train_tagged)\n",
    "y_test, X_test = vec_for_learning(model_dbow, test_tagged)"
   ]
  },
  {
   "cell_type": "code",
   "execution_count": 31,
   "metadata": {},
   "outputs": [],
   "source": [
    "logreg = LogisticRegression(n_jobs=1, C=1e5)\n",
    "logreg.fit(X_train, y_train)\n",
    "y_pred = logreg.predict(X_test)"
   ]
  },
  {
   "cell_type": "code",
   "execution_count": 32,
   "metadata": {},
   "outputs": [
    {
     "name": "stdout",
     "output_type": "stream",
     "text": [
      "Testing accuracy 0.7470588235294118\n",
      "Testing F1 score: 0.7295486625391067\n"
     ]
    }
   ],
   "source": [
    "from sklearn.metrics import accuracy_score, f1_score\n",
    "\n",
    "print('Testing accuracy %s' % accuracy_score(y_test, y_pred))\n",
    "print('Testing F1 score: {}'.format(f1_score(y_test, y_pred, average='weighted')))"
   ]
  },
  {
   "cell_type": "code",
   "execution_count": 45,
   "metadata": {},
   "outputs": [
    {
     "data": {
      "text/plain": [
       "array(['NOT_SARCASM', 'NOT_SARCASM', 'NOT_SARCASM', 'SARCASM',\n",
       "       'NOT_SARCASM', 'NOT_SARCASM', 'NOT_SARCASM', 'SARCASM',\n",
       "       'NOT_SARCASM', 'NOT_SARCASM', 'NOT_SARCASM', 'SARCASM',\n",
       "       'NOT_SARCASM', 'NOT_SARCASM', 'NOT_SARCASM', 'NOT_SARCASM',\n",
       "       'SARCASM', 'NOT_SARCASM', 'NOT_SARCASM', 'NOT_SARCASM',\n",
       "       'NOT_SARCASM', 'NOT_SARCASM', 'NOT_SARCASM', 'SARCASM',\n",
       "       'NOT_SARCASM', 'NOT_SARCASM', 'SARCASM', 'NOT_SARCASM',\n",
       "       'NOT_SARCASM', 'SARCASM', 'NOT_SARCASM', 'NOT_SARCASM', 'SARCASM',\n",
       "       'NOT_SARCASM', 'NOT_SARCASM', 'SARCASM', 'SARCASM', 'NOT_SARCASM',\n",
       "       'NOT_SARCASM', 'NOT_SARCASM', 'NOT_SARCASM', 'NOT_SARCASM',\n",
       "       'NOT_SARCASM', 'NOT_SARCASM', 'NOT_SARCASM', 'NOT_SARCASM',\n",
       "       'NOT_SARCASM', 'NOT_SARCASM', 'NOT_SARCASM', 'NOT_SARCASM',\n",
       "       'NOT_SARCASM', 'NOT_SARCASM', 'NOT_SARCASM', 'NOT_SARCASM',\n",
       "       'NOT_SARCASM', 'SARCASM', 'NOT_SARCASM', 'NOT_SARCASM',\n",
       "       'NOT_SARCASM', 'NOT_SARCASM', 'NOT_SARCASM', 'NOT_SARCASM',\n",
       "       'NOT_SARCASM', 'NOT_SARCASM', 'NOT_SARCASM', 'NOT_SARCASM',\n",
       "       'NOT_SARCASM', 'NOT_SARCASM', 'NOT_SARCASM', 'NOT_SARCASM',\n",
       "       'NOT_SARCASM', 'NOT_SARCASM', 'NOT_SARCASM', 'NOT_SARCASM',\n",
       "       'NOT_SARCASM', 'NOT_SARCASM', 'NOT_SARCASM', 'NOT_SARCASM',\n",
       "       'NOT_SARCASM', 'NOT_SARCASM', 'NOT_SARCASM', 'NOT_SARCASM',\n",
       "       'NOT_SARCASM', 'NOT_SARCASM', 'NOT_SARCASM', 'NOT_SARCASM',\n",
       "       'SARCASM', 'NOT_SARCASM', 'SARCASM', 'NOT_SARCASM', 'NOT_SARCASM',\n",
       "       'NOT_SARCASM', 'NOT_SARCASM', 'SARCASM', 'NOT_SARCASM', 'SARCASM',\n",
       "       'NOT_SARCASM', 'NOT_SARCASM', 'NOT_SARCASM', 'NOT_SARCASM',\n",
       "       'NOT_SARCASM', 'NOT_SARCASM', 'NOT_SARCASM', 'NOT_SARCASM',\n",
       "       'SARCASM', 'NOT_SARCASM', 'SARCASM', 'NOT_SARCASM', 'NOT_SARCASM',\n",
       "       'NOT_SARCASM', 'NOT_SARCASM', 'NOT_SARCASM', 'NOT_SARCASM',\n",
       "       'NOT_SARCASM', 'SARCASM', 'NOT_SARCASM', 'NOT_SARCASM',\n",
       "       'NOT_SARCASM', 'NOT_SARCASM', 'NOT_SARCASM', 'NOT_SARCASM',\n",
       "       'NOT_SARCASM', 'NOT_SARCASM', 'NOT_SARCASM', 'NOT_SARCASM',\n",
       "       'SARCASM', 'NOT_SARCASM', 'NOT_SARCASM', 'NOT_SARCASM',\n",
       "       'NOT_SARCASM', 'NOT_SARCASM', 'NOT_SARCASM', 'NOT_SARCASM',\n",
       "       'NOT_SARCASM', 'NOT_SARCASM', 'NOT_SARCASM', 'SARCASM',\n",
       "       'NOT_SARCASM', 'NOT_SARCASM', 'NOT_SARCASM', 'NOT_SARCASM',\n",
       "       'SARCASM', 'NOT_SARCASM', 'NOT_SARCASM', 'NOT_SARCASM',\n",
       "       'NOT_SARCASM', 'NOT_SARCASM', 'NOT_SARCASM', 'NOT_SARCASM',\n",
       "       'NOT_SARCASM', 'NOT_SARCASM', 'NOT_SARCASM', 'NOT_SARCASM',\n",
       "       'NOT_SARCASM', 'NOT_SARCASM', 'NOT_SARCASM', 'NOT_SARCASM',\n",
       "       'NOT_SARCASM', 'NOT_SARCASM', 'NOT_SARCASM', 'NOT_SARCASM',\n",
       "       'NOT_SARCASM', 'NOT_SARCASM', 'NOT_SARCASM', 'NOT_SARCASM',\n",
       "       'SARCASM', 'NOT_SARCASM', 'NOT_SARCASM', 'NOT_SARCASM',\n",
       "       'NOT_SARCASM'], dtype='<U11')"
      ]
     },
     "execution_count": 45,
     "metadata": {},
     "output_type": "execute_result"
    }
   ],
   "source": [
    "y_pred"
   ]
  },
  {
   "cell_type": "code",
   "execution_count": 74,
   "metadata": {},
   "outputs": [],
   "source": [
    "df1 = pd.read_csv('Input.csv')\n",
    "df1['narrative'] = df1['narrative'].apply(cleanText)\n",
    "test_tagged1 = df1.apply(\n",
    "    lambda r: TaggedDocument(words=tokenize_text(r['narrative']), tags=[r.Product]), axis=1)"
   ]
  },
  {
   "cell_type": "code",
   "execution_count": 75,
   "metadata": {},
   "outputs": [],
   "source": [
    "y_test1, X_test1 = vec_for_learning(model_dbow, test_tagged1)"
   ]
  },
  {
   "cell_type": "code",
   "execution_count": 76,
   "metadata": {},
   "outputs": [],
   "source": [
    "y_pred = logreg.predict(X_test1)"
   ]
  },
  {
   "cell_type": "code",
   "execution_count": 77,
   "metadata": {},
   "outputs": [
    {
     "data": {
      "text/plain": [
       "array(['SARCASM', 'NOT_SARCASM', 'NOT_SARCASM'], dtype='<U11')"
      ]
     },
     "execution_count": 77,
     "metadata": {},
     "output_type": "execute_result"
    }
   ],
   "source": [
    "y_pred"
   ]
  },
  {
   "cell_type": "code",
   "execution_count": null,
   "metadata": {},
   "outputs": [],
   "source": []
  }
 ],
 "metadata": {
  "kernelspec": {
   "display_name": "Python 3",
   "language": "python",
   "name": "python3"
  },
  "language_info": {
   "codemirror_mode": {
    "name": "ipython",
    "version": 3
   },
   "file_extension": ".py",
   "mimetype": "text/x-python",
   "name": "python",
   "nbconvert_exporter": "python",
   "pygments_lexer": "ipython3",
   "version": "3.6.4"
  }
 },
 "nbformat": 4,
 "nbformat_minor": 2
}
